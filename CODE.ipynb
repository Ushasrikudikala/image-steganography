{
 "cells": [
  {
   "cell_type": "markdown",
   "id": "93dcd4f6",
   "metadata": {},
   "source": [
    "# Secure Banking Transactions via Integrated Image Steganography for Confidential Information Exchange"
   ]
  },
  {
   "cell_type": "markdown",
   "id": "3f4a1a90",
   "metadata": {},
   "source": [
    "## Importing Libraries"
   ]
  },
  {
   "cell_type": "code",
   "execution_count": 1,
   "id": "d6916d64",
   "metadata": {},
   "outputs": [],
   "source": [
    "import numpy as np\n",
    "import cv2\n",
    "import os\n",
    "from pvd_lib import pvd_lib\n",
    "from tkinter import filedialog, simpledialog"
   ]
  },
  {
   "cell_type": "markdown",
   "id": "af2886fe",
   "metadata": {},
   "source": [
    "## Declaring Global Variables"
   ]
  },
  {
   "cell_type": "code",
   "execution_count": 2,
   "id": "18a5c75d",
   "metadata": {},
   "outputs": [],
   "source": [
    "global image_path, text_path\n",
    "\n",
    "pvd_obj = pvd_lib()"
   ]
  },
  {
   "cell_type": "markdown",
   "id": "44fd00da",
   "metadata": {},
   "source": [
    "## Slicing text of based on number of images"
   ]
  },
  {
   "cell_type": "code",
   "execution_count": 3,
   "id": "5037d678",
   "metadata": {},
   "outputs": [],
   "source": [
    "def slice_text(text_file, images_path):\n",
    "    with open(text_file, \"rb\") as myfile:\n",
    "        data = myfile.read()\n",
    "    \n",
    "    files = []\n",
    "    for root, _, directory in os.walk(images_path):\n",
    "        for file in directory:\n",
    "            if 'Thumbs.db' not in file:\n",
    "                files.append(os.path.join(root, file))\n",
    "    \n",
    "    length = len(data)\n",
    "    size = length // len(files)\n",
    "    tot_blocks = len(files)\n",
    "    \n",
    "    block = []\n",
    "    start, end = 0, size\n",
    "    for i in range(tot_blocks):\n",
    "        chunk = data[start:end]\n",
    "        block.append(chunk.decode('latin1'))\n",
    "        start = end\n",
    "        end += size\n",
    "    \n",
    "    remain = length - start\n",
    "    if remain > 0:\n",
    "        chunk = data[start:length]\n",
    "        block[-1] += chunk.decode('latin1')\n",
    "    \n",
    "    return block, files"
   ]
  },
  {
   "cell_type": "markdown",
   "id": "0d9395bf",
   "metadata": {},
   "source": [
    "## Encoding of text in the Images"
   ]
  },
  {
   "cell_type": "code",
   "execution_count": 4,
   "id": "ef80dce8",
   "metadata": {},
   "outputs": [],
   "source": [
    "def pvd_encoding(image_path, slice_msg, pvd_obj):\n",
    "    base_name = os.path.basename(os.path.dirname(image_path))\n",
    "    output_dir = os.path.join('/;;;;;;p;p;ppp', base_name)\n",
    "    os.makedirs(output_dir, exist_ok=True)\n",
    "    \n",
    "    img_name = os.path.basename(image_path).replace(\".jpg\", \".png\")\n",
    "    temp_text_path = \"data.txt\"\n",
    "    \n",
    "    with open(temp_text_path, \"wb\") as myfile:\n",
    "        myfile.write(slice_msg.encode())\n",
    "    \n",
    "    pvd_obj.pvd_embed(image_path, temp_text_path, os.path.join(output_dir, img_name))"
   ]
  },
  {
   "cell_type": "markdown",
   "id": "51be7f9c",
   "metadata": {},
   "source": [
    "# Decoding of text from the Images"
   ]
  },
  {
   "cell_type": "code",
   "execution_count": 5,
   "id": "45c8c2fe",
   "metadata": {},
   "outputs": [],
   "source": [
    "def pvd_decoding(encoded_path, pvd_obj):\n",
    "    output = \"\"\n",
    "    files = [os.path.join(root, file) for root, _, directory in os.walk(encoded_path) for file in directory if 'Thumbs.db' not in file]\n",
    "    \n",
    "    for file in files:\n",
    "        temp_text_path = \"data.txt\"\n",
    "        pvd_obj.pvd_extract(file, temp_text_path, file)\n",
    "        \n",
    "        with open(temp_text_path, \"rb\") as myfile:\n",
    "            data = myfile.read()\n",
    "        output += data.decode('latin1')\n",
    "    \n",
    "    return output"
   ]
  },
  {
   "cell_type": "code",
   "execution_count": 6,
   "id": "522d5a41",
   "metadata": {},
   "outputs": [],
   "source": [
    "pvd_obj = pvd_lib()"
   ]
  },
  {
   "cell_type": "markdown",
   "id": "ef853e95",
   "metadata": {},
   "source": [
    "## Declaring input paths"
   ]
  },
  {
   "cell_type": "code",
   "execution_count": 7,
   "id": "d5f83c9e",
   "metadata": {},
   "outputs": [],
   "source": [
    "text_file = r\"sample_text.txt\"\n",
    "image_dir = r\"images1\""
   ]
  },
  {
   "cell_type": "code",
   "execution_count": 8,
   "id": "560ed590",
   "metadata": {},
   "outputs": [],
   "source": [
    "blocks, image_files = slice_text(text_file, image_dir)\n",
    "for i in range(len(image_files)):\n",
    "    img = cv2.imread(image_files[i])\n",
    "    img = cv2.resize(img, (600, 600))\n",
    "    img = cv2.cvtColor(img, cv2.COLOR_BGR2RGB)\n",
    "    cv2.imwrite(image_files[i], img)\n",
    "    pvd_encoding(image_files[i], blocks[i], pvd_obj)"
   ]
  },
  {
   "cell_type": "markdown",
   "id": "ddead43d",
   "metadata": {},
   "source": [
    "## Text Extraction from the encoded images"
   ]
  },
  {
   "cell_type": "code",
   "execution_count": 9,
   "id": "8ef5996c",
   "metadata": {},
   "outputs": [
    {
     "name": "stdout",
     "output_type": "stream",
     "text": [
      "Extracted Text: Namani Vamshi Krishna\r\n",
      "SBI Bank: Huzurabad Karimnagar\r\n",
      "Account Number: 32664599680\r\n",
      "CARD Number: 7846 5162 1733\r\n",
      "\n"
     ]
    }
   ],
   "source": [
    "encoded_images_dir = r\"Encoded_Images\\images1\"\n",
    "extracted_text = pvd_decoding(encoded_images_dir, pvd_obj)\n",
    "print(\"Extracted Text:\", extracted_text)"
   ]
  },
  {
   "cell_type": "code",
   "execution_count": null,
   "id": "2808d631",
   "metadata": {},
   "outputs": [],
   "source": []
  },
  {
   "cell_type": "code",
   "execution_count": null,
   "id": "9a3944d5",
   "metadata": {},
   "outputs": [],
   "source": []
  },
  {
   "cell_type": "code",
   "execution_count": null,
   "id": "04f33c11",
   "metadata": {},
   "outputs": [],
   "source": []
  },
  {
   "cell_type": "code",
   "execution_count": null,
   "id": "3f64d986",
   "metadata": {},
   "outputs": [],
   "source": []
  },
  {
   "cell_type": "code",
   "execution_count": null,
   "id": "a75689dc",
   "metadata": {},
   "outputs": [],
   "source": []
  }
 ],
 "metadata": {
  "kernelspec": {
   "display_name": "Python 3 (ipykernel)",
   "language": "python",
   "name": "python3"
  },
  "language_info": {
   "codemirror_mode": {
    "name": "ipython",
    "version": 3
   },
   "file_extension": ".py",
   "mimetype": "text/x-python",
   "name": "python",
   "nbconvert_exporter": "python",
   "pygments_lexer": "ipython3",
   "version": "3.7.6"
  }
 },
 "nbformat": 4,
 "nbformat_minor": 5
}
